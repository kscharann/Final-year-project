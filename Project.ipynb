{
  "cells": [
    {
      "cell_type": "markdown",
      "metadata": {
        "id": "view-in-github",
        "colab_type": "text"
      },
      "source": [
        "<a href=\"https://colab.research.google.com/github/kscharann/Final-year-project/blob/main/Project.ipynb\" target=\"_parent\"><img src=\"https://colab.research.google.com/assets/colab-badge.svg\" alt=\"Open In Colab\"/></a>"
      ]
    },
    {
      "cell_type": "code",
      "source": [
        "from google.colab import drive\n",
        "drive.mount('/content/drive')"
      ],
      "metadata": {
        "id": "9Co3LsBCnNXM",
        "outputId": "5106c7fa-72fb-4884-d98f-58d69c28c143",
        "colab": {
          "base_uri": "https://localhost:8080/"
        }
      },
      "execution_count": 3,
      "outputs": [
        {
          "output_type": "stream",
          "name": "stdout",
          "text": [
            "Mounted at /content/drive\n"
          ]
        }
      ]
    },
    {
      "cell_type": "code",
      "source": [
        "from keras.callbacks import ModelCheckpoint\n",
        "from keras.layers import Dropout\n",
        "from numpy import mean\n",
        "from numpy import std\n",
        "from numpy import round\n",
        "import numpy as np\n",
        "from matplotlib import pyplot\n",
        "from sklearn.model_selection import KFold\n",
        "from keras.datasets import fashion_mnist\n",
        "from tensorflow.keras.utils import to_categorical  # changed\n",
        "from keras.models import Sequential\n",
        "from keras.layers import Conv2D\n",
        "from keras.layers import MaxPooling2D\n",
        "from keras.layers import Dense\n",
        "from keras.layers import Flatten\n",
        "from tensorflow.keras.optimizers import SGD  # changed\n",
        "import pandas as pd\n",
        "from keras import backend as K\n",
        "from keras.layers.convolutional import Convolution2D\n",
        "from keras.layers.convolutional import MaxPooling2D\n",
        "\n",
        "import matplotlib.pyplot as plt\n"
      ],
      "metadata": {
        "id": "ilJPzjBSnpCQ"
      },
      "execution_count": 4,
      "outputs": []
    },
    {
      "cell_type": "code",
      "source": [
        "train = pd.read_csv(\"./traindata.csv\").values\n",
        "test = pd.read_csv(\"./testdata.csv\").values\n",
        "\n",
        "print(train[:, 1:].shape)\n",
        "trainX = train[:, 1:].reshape((train.shape[0], 1, 7, 6))\n",
        "y_train = train[:, 0]\n",
        "print(y_train)\n",
        "print(y_train.shape)\n",
        "\n",
        "testX = test[:, 1:].reshape(test.shape[0], 1, 7, 6)\n",
        "y_test = test[:, 0]\n",
        "print(testX[:1, :].shape)\n",
        "\n",
        "\n",
        "# MODEL 1\n",
        "model = Sequential()\n",
        "K.image_data_format()  # changed\n",
        "model.add(Convolution2D(15, 1, 1, padding='valid',\n",
        "          input_shape=(1, 7, 6), activation='relu'))\n",
        "model.add(MaxPooling2D(pool_size=(1, 1)))\n",
        "model.add(Convolution2D(15, 1, 1, activation='relu'))\n",
        "model.add(MaxPooling2D(pool_size=(1, 1)))\n",
        "model.add(Dropout(0.2))\n",
        "model.add(Flatten())\n",
        "model.add(Dense(128, activation='relu'))\n",
        "model.add(Dense(50, activation='relu'))\n",
        "model.add(Dense(1, activation='sigmoid'))\n",
        "# Compile model\n",
        "model.compile(loss='binary_crossentropy',\n",
        "              optimizer='adam', metrics=['accuracy'])\n",
        "\n",
        "# MODEL 2\n",
        "model1 = Sequential()\n",
        "K.image_data_format()  # changed\n",
        "model1.add(Convolution2D(15, 1, 1, padding='valid',  # changed\n",
        "           input_shape=(1, 7, 6), activation='relu'))\n",
        "model1.add(MaxPooling2D(pool_size=(1, 1)))\n",
        "model1.add(Convolution2D(15, 1, 1, activation='relu'))\n",
        "model1.add(MaxPooling2D(pool_size=(1, 1)))\n",
        "model1.add(Dropout(0.2))\n",
        "model1.add(Flatten())\n",
        "model1.add(Dense(15, activation='relu'))\n",
        "model1.add(Dense(1, activation='sigmoid'))\n",
        "#model.add(Dense(10, activation= 'softmax' ))\n",
        "# Compile model\n",
        "#model.compile(loss= 'categorical_crossentropy' , optimizer= 'adam' , metrics=[ 'accuracy' ])\n",
        "model1.compile(optimizer='adam', loss='binary_crossentropy',\n",
        "               metrics=['accuracy'])\n",
        "\n",
        "\n",
        "filepath = \"best_model.hdf5\"\n",
        "checkpoint = ModelCheckpoint(\n",
        "    filepath, monitor='val_acc', verbose=1, save_best_only=True, mode='max')\n",
        "\n",
        "X = np.asarray(trainX).astype('float32')\n",
        "Y = np.asarray(y_train).astype('float32')\n",
        "history = model1.fit(X, Y, validation_split=0.33, epochs=10, verbose=2)\n",
        "print(\"\\\\nTraining Performance Metrics\")\n",
        "print(history.history.keys())\n",
        "loss1, acc1 = model1.evaluate(testX, y_test, verbose=2)\n",
        "print(\"\\\\nTesting Performance Metrics\")\n",
        "print(\"Loss: \", loss1)\n",
        "print(\"Accuracy: \", acc1)\n",
        "print(\"MODEL Summary \", model1.summary())\n",
        "\n",
        "# MODEL 2 - Plot\n",
        "print(\"MODEL 2 - Performance Metrics\")\n",
        "plt.plot(history.history['accuracy'])\n",
        "plt.plot(history.history['val_accuracy'])\n",
        "plt.title('Model accuracy')\n",
        "plt.ylabel('Accuracy')\n",
        "plt.xlabel('Epoch')\n",
        "plt.legend(['Train', 'Test'], loc='upper left')\n",
        "plt.show()\n",
        "# Plot training & validation loss values\n",
        "plt.plot(history.history['loss'])\n",
        "plt.plot(history.history['val_loss'])\n",
        "plt.title('Model loss')\n",
        "plt.ylabel('Loss')\n",
        "plt.xlabel('Epochs')\n",
        "plt.legend(['Train', 'Test'], loc='upper left')\n",
        "plt.show()\n",
        "\n",
        "# MODEL 1 - RUNNING....\n",
        "history1 = model.fit(X, Y, validation_split=0.33, epochs=10, verbose=2)\n",
        "print(history1.history.keys())\n",
        "loss2, acc2 = model.evaluate(testX, y_test, verbose=2)\n",
        "print(\"\\\\nTesting Accuracy and Loss\")\n",
        "print(\"Loss: \", loss2)\n",
        "print(\"Acc: \", acc2)\n",
        "print(\"\\\\nMODEL 1 SUMMARY\")\n",
        "model.summary()\n",
        "\n",
        "# MODEL 1 - Plot\n",
        "print(\"MODEL 1 - Performance Metrics\")\n",
        "plt.plot(history1.history['accuracy'])\n",
        "plt.plot(history1.history['val_accuracy'])\n",
        "plt.title('Model accuracy')\n",
        "plt.ylabel('Accuracy')\n",
        "plt.xlabel('Epoch')\n",
        "plt.legend(['Train', 'Test'], loc='upper left')\n",
        "plt.show()\n",
        "# Plot training & validation loss values\n",
        "plt.plot(history1.history['loss'])\n",
        "plt.plot(history1.history['val_loss'])\n",
        "plt.title('Model loss')\n",
        "plt.ylabel('Loss')\n",
        "plt.xlabel('Epochs')\n",
        "plt.legend(['Train', 'Test'], loc='upper left')\n",
        "plt.show()\n",
        "\n",
        "# MODEL 3\n",
        "\n",
        "\n",
        "def define_model():\n",
        "    model2 = Sequential()\n",
        "    model2.add(Conv2D(32, (1, 1), activation='relu', kernel_initializer='he_uniform', input_shape=(1, 7, 6)))\n",
        "    model2.add(MaxPooling2D((1, 1)))\n",
        "    model2.add(Flatten())\n",
        "    model2.add(Dense(100, activation='relu', kernel_initializer='he_uniform'))\n",
        "    model2.add(Dense(1, activation='sigmoid'))\n",
        "# compile model\n",
        "    opt = SGD(lr=0.01, momentum=0.9)\n",
        "    model2.compile(optimizer=opt, loss='binary_crossentropy',\n",
        "                   metrics=['accuracy'])\n",
        "    return model2\n",
        "\n",
        "\n",
        "def evaluate_model(dataX, dataY, n_folds=5):\n",
        "    scores, histories = list(), list()\n",
        "# prepare cross validation\n",
        "    kfold = KFold(n_folds, shuffle=True, random_state=1)\n",
        "# enumerate splits\n",
        "    for train_ix, test_ix in kfold.split(dataX):\n",
        "        # define model\n",
        "        model = define_model()\n",
        "    # print(\\\"Hi\\\",model.summary())\n",
        "    # select rows for train and test\n",
        "    trainX, trainY, testX, testY = dataX[train_ix], dataY[train_ix], dataX[test_ix], dataY[test_ix]\n",
        "    # fit model\n",
        "    X = np.asarray(trainX).astype('float32')\n",
        "    Y = np.asarray(trainY).astype('float32')\n",
        "    XTest = np.asarray(testX).astype('float32')\n",
        "    YTest = np.asarray(testY).astype('float32')\n",
        "    history = model.fit(X, Y, validation_split=0.33,\n",
        "                        epochs=10, batch_size=32, verbose=0)\n",
        "    # evaluate model\\n\",\n",
        "    _, acc = model.evaluate(XTest, YTest, verbose=0)\n",
        "    print('> %.3f' % (acc * 100.0))\n",
        "    # append scores\n",
        "    scores.append(acc)\n",
        "    histories.append(history)\n",
        "    print(\"Model Summary\", model.summary())\n",
        "    print(\"\\nPrection by - Model 3\")\n",
        "    yhat = model.predict(testX)\n",
        "    print(yhat[0])\n",
        "    print(testY[0])\n",
        "    return scores, histories\n",
        "\n",
        "\n",
        "def summarize_diagnostics(histories):\n",
        "    for i in range(len(histories)):\n",
        "       # plot loss\n",
        "        pyplot.subplot(211)\n",
        "    pyplot.title('Cross Entropy Loss')\n",
        "    pyplot.plot(histories[i].history['loss'], color='blue', label='train')\n",
        "    pyplot.plot(histories[i].history['val_loss'], color='orange', label='test')\n",
        "    # plot accuracy\n",
        "    pyplot.subplot(212)\n",
        "    pyplot.title('Classification Accuracy')\n",
        "    pyplot.plot(histories[i].history['accuracy'], color='blue', label='train')\n",
        "    pyplot.plot(histories[i].history['val_accuracy'],\n",
        "                color='orange', label='test')\n",
        "    pyplot.show()\n",
        "\n",
        "\n",
        "def summarize_performance(scores):\n",
        "    # print summary\n",
        "    print('Accuracy: mean=%.3f std=%.3f, n=%d' %\n",
        "          (mean(scores)*100, std(scores)*100, len(scores)))\n",
        "    # box and whisker plots of results\n",
        "    pyplot.boxplot(scores)\n",
        "    pyplot.show()\n",
        "\n",
        "\n",
        "def run_test_harness():\n",
        "    # evaluate model4\n",
        "    scores, histories = evaluate_model(X, Y)\n",
        "    # learning curves\n",
        "    summarize_diagnostics(histories)\n",
        "    # summarize estimated performance\n",
        "    summarize_performance(scores)\n",
        "\n",
        "\n",
        "run_test_harness()\n",
        "\n",
        "# Prediction By - MODEL 1\n",
        "yhat = model.predict(testX)\n",
        "print(\"Predicted Class by Model 1: \", yhat[0])\n",
        "print(\"Predicted Class by Model 1 (rounded): \", round(yhat[0]))\n",
        "print(\"Actual Class in the Dataset : \", y_test[0])\n",
        "\n",
        "# Prediction By - MODEL 2\n",
        "yhat = model1.predict(testX)\n",
        "print(\"Predicted Class by Model 1: \", yhat[0])\n",
        "print(\"Predicted Class by Model 1 (rounded): \", round(yhat[0]))\n",
        "print(\"Actual Class in the Dataset : \", y_test[0])\n"
      ],
      "metadata": {
        "id": "FgZ9S5Sfn9RT",
        "outputId": "a5b35e92-aba4-41e1-c6dc-e3baa38cea3b",
        "colab": {
          "base_uri": "https://localhost:8080/",
          "height": 1000
        }
      },
      "execution_count": 6,
      "outputs": [
        {
          "output_type": "stream",
          "name": "stderr",
          "text": [
            "/usr/local/lib/python3.8/dist-packages/IPython/core/interactiveshell.py:3326: DtypeWarning: Columns (3) have mixed types.Specify dtype option on import or set low_memory=False.\n",
            "  exec(code_obj, self.user_global_ns, self.user_ns)\n"
          ]
        },
        {
          "output_type": "stream",
          "name": "stdout",
          "text": [
            "(125973, 42)\n",
            "[0 0 1 ... 0 1 0]\n",
            "(125973,)\n",
            "(1, 1, 7, 6)\n",
            "Epoch 1/10\n",
            "2638/2638 - 14s - loss: 511.8335 - accuracy: 0.8534 - val_loss: 82.4591 - val_accuracy: 0.9144 - 14s/epoch - 5ms/step\n",
            "Epoch 2/10\n",
            "2638/2638 - 9s - loss: 115.8235 - accuracy: 0.9092 - val_loss: 201.0477 - val_accuracy: 0.9425 - 9s/epoch - 4ms/step\n",
            "Epoch 3/10\n",
            "2638/2638 - 10s - loss: 225.6821 - accuracy: 0.9230 - val_loss: 140.1167 - val_accuracy: 0.9401 - 10s/epoch - 4ms/step\n",
            "Epoch 4/10\n",
            "2638/2638 - 10s - loss: 129.0511 - accuracy: 0.9350 - val_loss: 31.2011 - val_accuracy: 0.9436 - 10s/epoch - 4ms/step\n",
            "Epoch 5/10\n",
            "2638/2638 - 12s - loss: 24.4903 - accuracy: 0.9370 - val_loss: 1.8534 - val_accuracy: 0.9617 - 12s/epoch - 5ms/step\n",
            "Epoch 6/10\n",
            "2638/2638 - 9s - loss: 3.5254 - accuracy: 0.9435 - val_loss: 0.1039 - val_accuracy: 0.9635 - 9s/epoch - 3ms/step\n",
            "Epoch 7/10\n",
            "2638/2638 - 22s - loss: 0.1508 - accuracy: 0.9507 - val_loss: 0.1039 - val_accuracy: 0.9654 - 22s/epoch - 8ms/step\n",
            "Epoch 8/10\n",
            "2638/2638 - 10s - loss: 0.1821 - accuracy: 0.9516 - val_loss: 0.0937 - val_accuracy: 0.9683 - 10s/epoch - 4ms/step\n",
            "Epoch 9/10\n",
            "2638/2638 - 9s - loss: 0.1165 - accuracy: 0.9583 - val_loss: 0.0850 - val_accuracy: 0.9699 - 9s/epoch - 3ms/step\n",
            "Epoch 10/10\n",
            "2638/2638 - 11s - loss: 0.1076 - accuracy: 0.9608 - val_loss: 0.0892 - val_accuracy: 0.9711 - 11s/epoch - 4ms/step\n",
            "\\nTraining Performance Metrics\n",
            "dict_keys(['loss', 'accuracy', 'val_loss', 'val_accuracy'])\n",
            "705/705 - 1s - loss: 0.8210 - accuracy: 0.7503 - 1s/epoch - 2ms/step\n",
            "\\nTesting Performance Metrics\n",
            "Loss:  0.821038007736206\n",
            "Accuracy:  0.7502661347389221\n",
            "Model: \"sequential_1\"\n",
            "_________________________________________________________________\n",
            " Layer (type)                Output Shape              Param #   \n",
            "=================================================================\n",
            " conv2d_2 (Conv2D)           (None, 1, 7, 15)          105       \n",
            "                                                                 \n",
            " max_pooling2d_2 (MaxPooling  (None, 1, 7, 15)         0         \n",
            " 2D)                                                             \n",
            "                                                                 \n",
            " conv2d_3 (Conv2D)           (None, 1, 7, 15)          240       \n",
            "                                                                 \n",
            " max_pooling2d_3 (MaxPooling  (None, 1, 7, 15)         0         \n",
            " 2D)                                                             \n",
            "                                                                 \n",
            " dropout_1 (Dropout)         (None, 1, 7, 15)          0         \n",
            "                                                                 \n",
            " flatten_1 (Flatten)         (None, 105)               0         \n",
            "                                                                 \n",
            " dense_3 (Dense)             (None, 15)                1590      \n",
            "                                                                 \n",
            " dense_4 (Dense)             (None, 1)                 16        \n",
            "                                                                 \n",
            "=================================================================\n",
            "Total params: 1,951\n",
            "Trainable params: 1,951\n",
            "Non-trainable params: 0\n",
            "_________________________________________________________________\n",
            "MODEL Summary  None\n",
            "MODEL 2 - Performance Metrics\n"
          ]
        },
        {
          "output_type": "display_data",
          "data": {
            "text/plain": [
              "<Figure size 432x288 with 1 Axes>"
            ],
            "image/png": "[encoded data removed]"
          },
          "metadata": {
            "needs_background": "light"
          }
        },
        {
          "output_type": "display_data",
          "data": {
            "text/plain": [
              "<Figure size 432x288 with 1 Axes>"
            ],
            "image/png": "[encoded data removed]"
          },
          "metadata": {
            "needs_background": "light"
          }
        },
        {
          "output_type": "stream",
          "name": "stdout",
          "text": [
            "Epoch 1/10\n",
            "2638/2638 - 13s - loss: 1014.7939 - accuracy: 0.8287 - val_loss: 9.1800 - val_accuracy: 0.8547 - 13s/epoch - 5ms/step\n",
            "Epoch 2/10\n",
            "2638/2638 - 12s - loss: 1180.5107 - accuracy: 0.8889 - val_loss: 156.8045 - val_accuracy: 0.8939 - 12s/epoch - 4ms/step\n",
            "Epoch 3/10\n",
            "2638/2638 - 12s - loss: 68.6924 - accuracy: 0.8937 - val_loss: 0.7725 - val_accuracy: 0.9218 - 12s/epoch - 4ms/step\n",
            "Epoch 4/10\n",
            "2638/2638 - 11s - loss: 1.2000 - accuracy: 0.9050 - val_loss: 0.2209 - val_accuracy: 0.9383 - 11s/epoch - 4ms/step\n",
            "Epoch 5/10\n",
            "2638/2638 - 13s - loss: 0.3083 - accuracy: 0.9135 - val_loss: 0.2232 - val_accuracy: 0.9505 - 13s/epoch - 5ms/step\n",
            "Epoch 6/10\n",
            "2638/2638 - 14s - loss: 0.4172 - accuracy: 0.9167 - val_loss: 0.1531 - val_accuracy: 0.9397 - 14s/epoch - 5ms/step\n",
            "Epoch 7/10\n",
            "2638/2638 - 14s - loss: 8.8157 - accuracy: 0.9283 - val_loss: 0.1602 - val_accuracy: 0.9416 - 14s/epoch - 5ms/step\n",
            "Epoch 8/10\n",
            "2638/2638 - 14s - loss: 0.1394 - accuracy: 0.9452 - val_loss: 0.0923 - val_accuracy: 0.9641 - 14s/epoch - 5ms/step\n",
            "Epoch 9/10\n",
            "2638/2638 - 13s - loss: 0.1227 - accuracy: 0.9519 - val_loss: 0.0937 - val_accuracy: 0.9615 - 13s/epoch - 5ms/step\n",
            "Epoch 10/10\n",
            "2638/2638 - 13s - loss: 0.1087 - accuracy: 0.9582 - val_loss: 0.0854 - val_accuracy: 0.9695 - 13s/epoch - 5ms/step\n",
            "dict_keys(['loss', 'accuracy', 'val_loss', 'val_accuracy'])\n",
            "705/705 - 1s - loss: 1.0083 - accuracy: 0.7668 - 1s/epoch - 2ms/step\n",
            "\\nTesting Accuracy and Loss\n",
            "Loss:  1.0082905292510986\n",
            "Acc:  0.7668115496635437\n",
            "\\nMODEL 1 SUMMARY\n",
            "Model: \"sequential\"\n",
            "_________________________________________________________________\n",
            " Layer (type)                Output Shape              Param #   \n",
            "=================================================================\n",
            " conv2d (Conv2D)             (None, 1, 7, 15)          105       \n",
            "                                                                 \n",
            " max_pooling2d (MaxPooling2D  (None, 1, 7, 15)         0         \n",
            " )                                                               \n",
            "                                                                 \n",
            " conv2d_1 (Conv2D)           (None, 1, 7, 15)          240       \n",
            "                                                                 \n",
            " max_pooling2d_1 (MaxPooling  (None, 1, 7, 15)         0         \n",
            " 2D)                                                             \n",
            "                                                                 \n",
            " dropout (Dropout)           (None, 1, 7, 15)          0         \n",
            "                                                                 \n",
            " flatten (Flatten)           (None, 105)               0         \n",
            "                                                                 \n",
            " dense (Dense)               (None, 128)               13568     \n",
            "                                                                 \n",
            " dense_1 (Dense)             (None, 50)                6450      \n",
            "                                                                 \n",
            " dense_2 (Dense)             (None, 1)                 51        \n",
            "                                                                 \n",
            "=================================================================\n",
            "Total params: 20,414\n",
            "Trainable params: 20,414\n",
            "Non-trainable params: 0\n",
            "_________________________________________________________________\n",
            "MODEL 1 - Performance Metrics\n"
          ]
        },
        {
          "output_type": "display_data",
          "data": {
            "text/plain": [
              "<Figure size 432x288 with 1 Axes>"
            ],
            "image/png": "[encoded data removed]"
          },
          "metadata": {
            "needs_background": "light"
          }
        },
        {
          "output_type": "display_data",
          "data": {
            "text/plain": [
              "<Figure size 432x288 with 1 Axes>"
            ],
            "image/png": "[encoded data removed]"
          },
          "metadata": {
            "needs_background": "light"
          }
        },
        {
          "output_type": "stream",
          "name": "stderr",
          "text": [
            "WARNING:absl:`lr` is deprecated, please use `learning_rate` instead, or use the legacy optimizer, e.g.,tf.keras.optimizers.legacy.SGD.\n",
            "WARNING:absl:`lr` is deprecated, please use `learning_rate` instead, or use the legacy optimizer, e.g.,tf.keras.optimizers.legacy.SGD.\n",
            "WARNING:absl:`lr` is deprecated, please use `learning_rate` instead, or use the legacy optimizer, e.g.,tf.keras.optimizers.legacy.SGD.\n",
            "WARNING:absl:`lr` is deprecated, please use `learning_rate` instead, or use the legacy optimizer, e.g.,tf.keras.optimizers.legacy.SGD.\n",
            "WARNING:absl:`lr` is deprecated, please use `learning_rate` instead, or use the legacy optimizer, e.g.,tf.keras.optimizers.legacy.SGD.\n"
          ]
        },
        {
          "output_type": "stream",
          "name": "stdout",
          "text": [
            "> 53.290\n",
            "Model: \"sequential_6\"\n",
            "_________________________________________________________________\n",
            " Layer (type)                Output Shape              Param #   \n",
            "=================================================================\n",
            " conv2d_8 (Conv2D)           (None, 1, 7, 32)          224       \n",
            "                                                                 \n",
            " max_pooling2d_8 (MaxPooling  (None, 1, 7, 32)         0         \n",
            " 2D)                                                             \n",
            "                                                                 \n",
            " flatten_6 (Flatten)         (None, 224)               0         \n",
            "                                                                 \n",
            " dense_13 (Dense)            (None, 100)               22500     \n",
            "                                                                 \n",
            " dense_14 (Dense)            (None, 1)                 101       \n",
            "                                                                 \n",
            "=================================================================\n",
            "Total params: 22,825\n",
            "Trainable params: 22,825\n",
            "Non-trainable params: 0\n",
            "_________________________________________________________________\n",
            "Model Summary None\n",
            "\n",
            "Prection by - Model 3\n",
            "788/788 [==============================] - 2s 2ms/step\n",
            "[0.45880625]\n",
            "1.0\n"
          ]
        },
        {
          "output_type": "display_data",
          "data": {
            "text/plain": [
              "<Figure size 432x288 with 2 Axes>"
            ],
            "image/png": "[encoded data removed]"
          },
          "metadata": {
            "needs_background": "light"
          }
        },
        {
          "output_type": "stream",
          "name": "stdout",
          "text": [
            "Accuracy: mean=53.290 std=0.000, n=1\n"
          ]
        },
        {
          "output_type": "display_data",
          "data": {
            "text/plain": [
              "<Figure size 432x288 with 1 Axes>"
            ],
            "image/png": "[encoded data removed]"
          },
          "metadata": {
            "needs_background": "light"
          }
        },
        {
          "output_type": "stream",
          "name": "stdout",
          "text": [
            "705/705 [==============================] - 1s 2ms/step\n",
            "Predicted Class by Model 1:  [0.9999963]\n",
            "Predicted Class by Model 1 (rounded):  [1.]\n",
            "Actual Class in the Dataset :  1.0\n",
            "705/705 [==============================] - 1s 2ms/step\n",
            "Predicted Class by Model 1:  [0.99999404]\n",
            "Predicted Class by Model 1 (rounded):  [1.]\n",
            "Actual Class in the Dataset :  1.0\n"
          ]
        }
      ]
    }
  ],
  "metadata": {
    "colab": {
      "provenance": [],
      "include_colab_link": true
    },
    "kernelspec": {
      "display_name": "Python 3",
      "name": "python3"
    }
  },
  "nbformat": 4,
  "nbformat_minor": 0
}